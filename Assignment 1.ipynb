{
 "cells": [
  {
   "cell_type": "markdown",
   "id": "ac2eae55",
   "metadata": {},
   "source": [
    "# Q1) Finding Data Type\n"
   ]
  },
  {
   "cell_type": "code",
   "execution_count": 1,
   "id": "ab29e18d",
   "metadata": {},
   "outputs": [
    {
     "name": "stdout",
     "output_type": "stream",
     "text": [
      "<class 'int'>\n"
     ]
    }
   ],
   "source": [
    "# 5\n",
    "data = 5\n",
    "print(type(data))"
   ]
  },
  {
   "cell_type": "markdown",
   "id": "fa97327b",
   "metadata": {},
   "source": [
    "Hence the data type is \"Integer\""
   ]
  },
  {
   "cell_type": "code",
   "execution_count": 2,
   "id": "9a931d97",
   "metadata": {},
   "outputs": [
    {
     "name": "stdout",
     "output_type": "stream",
     "text": [
      "<class 'float'>\n"
     ]
    }
   ],
   "source": [
    "# 5.0\n",
    "data = 5.0\n",
    "print(type(data))"
   ]
  },
  {
   "cell_type": "markdown",
   "id": "0b4b4a92",
   "metadata": {},
   "source": [
    "Hence the data type is \"Float\""
   ]
  },
  {
   "cell_type": "code",
   "execution_count": 14,
   "id": "39890ee9",
   "metadata": {},
   "outputs": [
    {
     "name": "stdout",
     "output_type": "stream",
     "text": [
      "True\n",
      "<class 'bool'>\n"
     ]
    }
   ],
   "source": [
    "# 5 > 1\n",
    "data = 5 > 1\n",
    "print (data)\n",
    "print(type(data))"
   ]
  },
  {
   "cell_type": "markdown",
   "id": "96668c0e",
   "metadata": {},
   "source": [
    "Hence the data type is \"Boolean\""
   ]
  },
  {
   "cell_type": "code",
   "execution_count": 4,
   "id": "36c9112f",
   "metadata": {},
   "outputs": [
    {
     "name": "stdout",
     "output_type": "stream",
     "text": [
      "<class 'str'>\n"
     ]
    }
   ],
   "source": [
    "# '5'\n",
    "data = '5'\n",
    "print(type(data))"
   ]
  },
  {
   "cell_type": "markdown",
   "id": "e5563381",
   "metadata": {},
   "source": [
    "Hence the data type is \"String\""
   ]
  },
  {
   "cell_type": "code",
   "execution_count": 15,
   "id": "df995ff4",
   "metadata": {},
   "outputs": [
    {
     "name": "stdout",
     "output_type": "stream",
     "text": [
      "10\n",
      "<class 'int'>\n"
     ]
    }
   ],
   "source": [
    "# 5 * 2\n",
    "data = 5 * 2\n",
    "print(data)\n",
    "print(type(data))"
   ]
  },
  {
   "cell_type": "markdown",
   "id": "5fed94f6",
   "metadata": {},
   "source": [
    "Hence the data type is \"Integer\""
   ]
  },
  {
   "cell_type": "code",
   "execution_count": 16,
   "id": "bec6c528",
   "metadata": {},
   "outputs": [
    {
     "name": "stdout",
     "output_type": "stream",
     "text": [
      "55\n",
      "<class 'str'>\n"
     ]
    }
   ],
   "source": [
    "# '5' * 2\n",
    "data = '5' * 2\n",
    "print(data)\n",
    "print(type(data))"
   ]
  },
  {
   "cell_type": "markdown",
   "id": "7bfdbe68",
   "metadata": {},
   "source": [
    "Hence data type is \"String\""
   ]
  },
  {
   "cell_type": "code",
   "execution_count": 17,
   "id": "11b82c05",
   "metadata": {},
   "outputs": [
    {
     "name": "stdout",
     "output_type": "stream",
     "text": [
      "52\n",
      "<class 'str'>\n"
     ]
    }
   ],
   "source": [
    "# '5' + '2'\n",
    "data = '5' + '2'\n",
    "print(data)\n",
    "print(type(data))"
   ]
  },
  {
   "cell_type": "markdown",
   "id": "b632dd17",
   "metadata": {},
   "source": [
    "Hence data type is \"String\""
   ]
  },
  {
   "cell_type": "code",
   "execution_count": 18,
   "id": "73b4081f",
   "metadata": {},
   "outputs": [
    {
     "name": "stdout",
     "output_type": "stream",
     "text": [
      "2.5\n",
      "<class 'float'>\n"
     ]
    }
   ],
   "source": [
    "# 5 / 2\n",
    "data = 5 / 2\n",
    "print(data)\n",
    "print(type(data))"
   ]
  },
  {
   "cell_type": "markdown",
   "id": "5080746f",
   "metadata": {},
   "source": [
    "Hence data type is \"Float\""
   ]
  },
  {
   "cell_type": "code",
   "execution_count": 20,
   "id": "6d461359",
   "metadata": {},
   "outputs": [
    {
     "name": "stdout",
     "output_type": "stream",
     "text": [
      "1\n",
      "<class 'int'>\n"
     ]
    }
   ],
   "source": [
    "# 5 % 2\n",
    "data = 5 % 2\n",
    "print(data)\n",
    "print(type(data))"
   ]
  },
  {
   "cell_type": "markdown",
   "id": "b46de4cf",
   "metadata": {},
   "source": [
    "Hence data type is \"Integer\""
   ]
  },
  {
   "cell_type": "code",
   "execution_count": 21,
   "id": "e9b1188a",
   "metadata": {},
   "outputs": [
    {
     "name": "stdout",
     "output_type": "stream",
     "text": [
      "<class 'set'>\n"
     ]
    }
   ],
   "source": [
    "# {5,2,1}\n",
    "data = {5,2,1}\n",
    "print(type(data))"
   ]
  },
  {
   "cell_type": "markdown",
   "id": "c33fed31",
   "metadata": {},
   "source": [
    "Hence data type is \"Set\""
   ]
  },
  {
   "cell_type": "code",
   "execution_count": 24,
   "id": "a9c63d71",
   "metadata": {},
   "outputs": [
    {
     "name": "stdout",
     "output_type": "stream",
     "text": [
      "False\n",
      "<class 'bool'>\n"
     ]
    }
   ],
   "source": [
    "# 5 == 3\n",
    "data = 5==3\n",
    "print(data)\n",
    "print(type(data))"
   ]
  },
  {
   "cell_type": "markdown",
   "id": "0ff6de0a",
   "metadata": {},
   "source": [
    "Hence data type is \"Boolean\""
   ]
  },
  {
   "cell_type": "code",
   "execution_count": 25,
   "id": "a72caea5",
   "metadata": {},
   "outputs": [
    {
     "ename": "NameError",
     "evalue": "name 'pi' is not defined",
     "output_type": "error",
     "traceback": [
      "\u001b[1;31m---------------------------------------------------------------------------\u001b[0m",
      "\u001b[1;31mNameError\u001b[0m                                 Traceback (most recent call last)",
      "Input \u001b[1;32mIn [25]\u001b[0m, in \u001b[0;36m<cell line: 2>\u001b[1;34m()\u001b[0m\n\u001b[0;32m      1\u001b[0m \u001b[38;5;66;03m# pi (3.15)\u001b[39;00m\n\u001b[1;32m----> 2\u001b[0m data \u001b[38;5;241m=\u001b[39m \u001b[43mpi\u001b[49m(\u001b[38;5;241m3.15\u001b[39m)\n\u001b[0;32m      3\u001b[0m \u001b[38;5;28mprint\u001b[39m(data)\n\u001b[0;32m      4\u001b[0m \u001b[38;5;28mprint\u001b[39m(\u001b[38;5;28mtype\u001b[39m(data))\n",
      "\u001b[1;31mNameError\u001b[0m: name 'pi' is not defined"
     ]
    }
   ],
   "source": [
    "# pi (3.15)\n",
    "data = pi(3.15)\n",
    "print(data)\n",
    "print(type(data))"
   ]
  },
  {
   "cell_type": "markdown",
   "id": "21ec5c94",
   "metadata": {},
   "source": [
    "# Q2) Python Expression for following questions:"
   ]
  },
  {
   "cell_type": "code",
   "execution_count": 27,
   "id": "c7e6ffd6",
   "metadata": {},
   "outputs": [
    {
     "name": "stdout",
     "output_type": "stream",
     "text": [
      "34\n"
     ]
    }
   ],
   "source": [
    "# A) How many letters are there in 'Supercalifragilisticexpialidocious'?\n",
    "text = len(\"Supercalifragilisticexpialidocious\")\n",
    "print (text)"
   ]
  },
  {
   "cell_type": "markdown",
   "id": "7f61e950",
   "metadata": {},
   "source": [
    "Hence there are 34 letters in the word 'Supercalifragilisticexpialidocious'"
   ]
  },
  {
   "cell_type": "code",
   "execution_count": 28,
   "id": "13fb7089",
   "metadata": {},
   "outputs": [
    {
     "name": "stdout",
     "output_type": "stream",
     "text": [
      "18\n"
     ]
    }
   ],
   "source": [
    "# B) Does 'Supercalifragilisticexpialidocious' contain 'ice' as a substring? \n",
    "text = 'Supercalifragilisticexpialidocious'\n",
    "#Now to find the 'ice' in the string\n",
    "finalresult = text.find('ice')\n",
    "print (finalresult)"
   ]
  },
  {
   "cell_type": "markdown",
   "id": "cdbb2995",
   "metadata": {},
   "source": [
    "Hence the above text contains 'ice' after the 18th position"
   ]
  },
  {
   "cell_type": "code",
   "execution_count": 29,
   "id": "e945dec5",
   "metadata": {},
   "outputs": [
    {
     "name": "stdout",
     "output_type": "stream",
     "text": [
      "34\n",
      "27\n",
      "34\n"
     ]
    }
   ],
   "source": [
    "# C) Which of the following words is the longest: Supercalifragilisticexpialidocious, Honorificabilitudinitatibus, or Bababadalgharaghtakamminarronnkonn?\n",
    "text1 = 'Supercalifragilisticexpialidocious'\n",
    "print(len(text1))\n",
    "\n",
    "text2 = 'Honorificabilitudinitatibus'\n",
    "print(len(text2))\n",
    "\n",
    "text3 = 'Bababadalgharaghtakamminarronnkonn'\n",
    "print(len(text3))"
   ]
  },
  {
   "cell_type": "markdown",
   "id": "4590dea3",
   "metadata": {},
   "source": [
    "Hence the longest words are 'Supercalifragilisticexpialidocious' and 'Bababadalgharaghtakamminarronnkonn'"
   ]
  },
  {
   "cell_type": "code",
   "execution_count": 34,
   "id": "30756eb0",
   "metadata": {},
   "outputs": [
    {
     "name": "stdout",
     "output_type": "stream",
     "text": [
      "{'Bellini', 'Bernstein', 'Buxtehude', 'Brian', 'Borodin', 'Berlioz', 'Bartok'}\n"
     ]
    }
   ],
   "source": [
    "# D) Which composer comes first in the dictionary: 'Berlioz', 'Borodin', 'Brian', 'Bartok', 'Bellini', 'Buxtehude', 'Bernstein'. Which one comes last?\n",
    "dict= {'Berlioz', 'Borodin', 'Brian', 'Bartok', 'Bellini', 'Buxtehude', 'Bernstein'}\n",
    "text = sorted(dict)\n",
    "print(dict)"
   ]
  },
  {
   "cell_type": "markdown",
   "id": "9f576f1b",
   "metadata": {},
   "source": [
    "# Q3) Implementing triangle Area Formula"
   ]
  },
  {
   "cell_type": "code",
   "execution_count": 43,
   "id": "480b630f",
   "metadata": {},
   "outputs": [
    {
     "name": "stdout",
     "output_type": "stream",
     "text": [
      "Enter first side value: 2\n",
      "Enter Second side vlaue: 2\n",
      "Enter Third side value: 2\n",
      "1.7320508075688772\n"
     ]
    }
   ],
   "source": [
    "# Sides of triangle are A,B and C\n",
    "# To input the values\n",
    "A = float(input(\"Enter first side value: \"))\n",
    "B = float(input(\"Enter Second side vlaue: \"))\n",
    "C = float(input(\"Enter Third side value: \"))\n",
    "\n",
    "#first of all semi perimeter is calculated\n",
    "\n",
    "d = (A+B+C) / 2\n",
    "\n",
    "#now calculate the area\n",
    "\n",
    "area = (d*(d-A)*(d-B)*(d-C)) ** 0.5\n",
    "\n",
    "print (area)"
   ]
  },
  {
   "cell_type": "markdown",
   "id": "120475e5",
   "metadata": {},
   "source": [
    "Hence the area of triangle is 1.7320508075688772"
   ]
  },
  {
   "cell_type": "markdown",
   "id": "5ac958a7",
   "metadata": {},
   "source": [
    "# Q4) Python Program to seperate odd and even integers\n"
   ]
  },
  {
   "cell_type": "code",
   "execution_count": 58,
   "id": "3f4ac801",
   "metadata": {},
   "outputs": [
    {
     "name": "stdout",
     "output_type": "stream",
     "text": [
      "Enter number of elements: 5\n",
      "enter the element: 25\n",
      "enter the element: 47\n",
      "enter the element: 42\n",
      "enter the element: 56\n",
      "enter the element: 32\n",
      "Even Numbers are:  [42, 56, 32]\n",
      "Odd Numbers are:  [25, 47]\n"
     ]
    }
   ],
   "source": [
    "\n",
    "numbers = []\n",
    "\n",
    "#now asking user to enter the numbers\n",
    "a = int(input(\"Enter number of elements: \"))\n",
    "    \n",
    "#now looping the elements and appending it to the numbers\n",
    "\n",
    "for x in range (1, 1+a):\n",
    "    elements = int(input(\"enter the element: \"))\n",
    "    numbers.append(elements)\n",
    "    \n",
    "    #now seperating the elements as odd and even number\n",
    "    #for even number, the element should be even number\n",
    "    \n",
    "evenlist = []\n",
    "oddlist = []\n",
    "    \n",
    "for e in numbers:\n",
    "    if e % 2 == 0: #divisible by 2\n",
    "        evenlist.append(e)\n",
    "    \n",
    "    else:\n",
    "            oddlist.append(e)\n",
    "        \n",
    "\n",
    "#now printing evenlist and oddlist\n",
    "\n",
    "print (\"Even Numbers are: \", evenlist)\n",
    "print (\"Odd Numbers are: \", oddlist)\n",
    "    \n",
    "    \n",
    "\n",
    "    \n",
    "    "
   ]
  },
  {
   "cell_type": "markdown",
   "id": "5dc1570c",
   "metadata": {},
   "source": [
    "Hence, the above is the answer of odd numbers and even numbers"
   ]
  },
  {
   "cell_type": "markdown",
   "id": "8c28b430",
   "metadata": {},
   "source": [
    "# Q5 - A) Write a function inside(x,y,x1,y1,x2,y2) that returns True or False depending on whether the point (x,y) lies in the rectangle with lower left corner (x1,y1) and upper right corner (x2,y2)."
   ]
  },
  {
   "cell_type": "code",
   "execution_count": 65,
   "id": "eb44e1fe",
   "metadata": {},
   "outputs": [
    {
     "name": "stdout",
     "output_type": "stream",
     "text": [
      "False\n"
     ]
    }
   ],
   "source": [
    "#defining the findpoints\n",
    "def inside(x1, y1, x2, y2, x, y) :\n",
    "    if (x > x1 and x < x2 and y >y1 and y < y2):\n",
    "        return True\n",
    "    else:\n",
    "        return False\n",
    "\n",
    "#allowing code to run\n",
    "if __name__ == \"__main__\" :    \n",
    "    \n",
    "    x1, y1, x2, y2, = 0, 0, 2, 3\n",
    "    \n",
    "    #for x and y = -1 , -1\n",
    "    x, y = -1, -1\n",
    "\n",
    "\n",
    "\n",
    "    if inside(x1, y1, x2, y2, x,y):\n",
    "        print(\"True\")\n",
    "    else:\n",
    "        print(\"False\")\n",
    "        \n",
    "   "
   ]
  },
  {
   "cell_type": "markdown",
   "id": "49a00ad1",
   "metadata": {},
   "source": [
    "# Q5 - B) Use function inside() from part a. to write an expression that tests whether the point (1,1) lies in both of the following rectangles: one with lower left corner (0.3, 0.5) and upper right corner (1.1, 0.7) and the other with lower left corner (0.5, 0.2) and upper right corner (1.1, 2)."
   ]
  },
  {
   "cell_type": "code",
   "execution_count": 67,
   "id": "9312cf09",
   "metadata": {},
   "outputs": [
    {
     "name": "stdout",
     "output_type": "stream",
     "text": [
      "False\n",
      "True\n"
     ]
    }
   ],
   "source": [
    "def inside(x1, y1, x2, y2, x, y) :\n",
    "    if (x > x1 and x < x2 and y >y1 and y < y2):\n",
    "        return True\n",
    "    else:\n",
    "        return False\n",
    "\n",
    "#allowing code to run\n",
    "if __name__ == \"__main__\" : \n",
    "    \n",
    "    #for rectangle with lower left corner 0.3, 0.5 and upper right corner 1.1, 0.7\n",
    "    x1, y1, x2, y2, = 0.3, 0.5, 1.1, 0.7\n",
    "    \n",
    "    #for x and y = 1 , 1\n",
    "    x, y = 1, 1\n",
    "\n",
    "\n",
    "\n",
    "    if inside(x1, y1, x2, y2, x,y):\n",
    "        print(\"True\")\n",
    "    else:\n",
    "        print(\"False\")\n",
    "        \n",
    "    #for rectangle with upper right corner 0.5, 0.2 and upper right corner 1.1, 2\n",
    "    x1, y1, x2, y2, = 0.5, 0.2, 1.1, 2\n",
    "    \n",
    "    #for x and y = 1 , 1\n",
    "    x, y = 1, 1\n",
    "\n",
    "\n",
    "\n",
    "    if inside(x1, y1, x2, y2, x,y):\n",
    "        print(\"True\")\n",
    "    else:\n",
    "        print(\"False\")\n",
    "        \n",
    "        \n",
    "        "
   ]
  },
  {
   "cell_type": "markdown",
   "id": "e1c42e29",
   "metadata": {},
   "source": [
    "# Q6) Turning word into pig-Latin"
   ]
  },
  {
   "cell_type": "code",
   "execution_count": 11,
   "id": "c09655e0",
   "metadata": {},
   "outputs": [
    {
     "name": "stdout",
     "output_type": "stream",
     "text": [
      "Please enter a word\n",
      "Lion\n",
      "The pigLatin of Lion is: ionlay\n"
     ]
    }
   ],
   "source": [
    "print ('Please enter a word')\n",
    "x = input()\n",
    "y = x.lower()\n",
    "z = y[0]\n",
    "a = ['a','e','i','o','u']\n",
    "b = len (y)\n",
    "c = str(z in a)\n",
    "d = 1\n",
    "e = b-1\n",
    "f =''\n",
    "while (d<=e):\n",
    "    f = f+y[d]\n",
    "    d = d +1\n",
    "\n",
    "e = ''\n",
    "if (c=='True'):\n",
    "    e = b + 'way'\n",
    "else:\n",
    "    e = f + z + 'ay'\n",
    "print('The pigLatin of ' + x + ' is: ' + e) "
   ]
  },
  {
   "cell_type": "markdown",
   "id": "6f0bf896",
   "metadata": {},
   "source": [
    "# Q7) Question 7 File bloodtype1.txt records blood-types of patients (A, B, AB, O or OO) at a clinic.Write a function bldcount() that reads the file with name name and reports (i.e.,prints) how many patients there are in each bloodtype."
   ]
  },
  {
   "cell_type": "code",
   "execution_count": 68,
   "id": "8629113d",
   "metadata": {},
   "outputs": [
    {
     "name": "stdout",
     "output_type": "stream",
     "text": [
      "There are 13 patients of blood group type AB\n",
      "There are 15 patients of blood group type O\n",
      "There are 15 patients of blood group type A\n",
      "There are 1 patients of blood group type B\n"
     ]
    }
   ],
   "source": [
    "#defining the function\n",
    "def bldcount(bloodgroup):\n",
    "    \n",
    "    #now breaking the given bloog group string\n",
    "    \n",
    "    bloodgroup_list = bloodgroup.split()\n",
    "    \n",
    "    #giving the set to the bloodgroup_list\n",
    "    \n",
    "    test = set(bloodgroup_list)\n",
    "    \n",
    "    for x in test :\n",
    "        print(\"There are\", bloodgroup_list.count(x), \"patients of blood group type\", x)\n",
    "\n",
    "        # to run code\n",
    "if __name__ == \"__main__\":\n",
    "    \n",
    "    bloodgroup = 'AB AB B O A A AB O AB A O O A A A O O O AB O A A A A A AB AB A AB O AB O A O O O AB O AB AB AB A A O '\n",
    "    \n",
    "    #finally calling the bldcount function\n",
    "    \n",
    "    bldcount(bloodgroup)"
   ]
  },
  {
   "cell_type": "markdown",
   "id": "ef1eb821",
   "metadata": {},
   "source": [
    "# Q8) Currency Converter"
   ]
  },
  {
   "cell_type": "code",
   "execution_count": 13,
   "id": "d203332b",
   "metadata": {},
   "outputs": [
    {
     "name": "stdout",
     "output_type": "stream",
     "text": [
      "Enter the amount to convert in USD: 50\n",
      "select option from below\n",
      "A: AUD to USD\n",
      "B: CHF to USD\n",
      "C: CNY to USD\n",
      "D: DKK to USD\n",
      "E: EUR to USD\n",
      "F: GBP to USD\n",
      "G: HKD to USD\n",
      "H: INR to USD\n",
      "I: JPY to USD\n",
      "J: MXN to USD\n",
      "K: MYR to USD\n",
      "L: NOK to USD\n",
      "M: NZD to USD\n",
      "N: PHP to USD\n",
      "O: SEK to USD\n",
      "P: SGD to USD\n",
      "Q: THB to USD\n",
      "Select the type of converstion: F\n",
      "The USD Rate is 63.0\n",
      "Thank you for using converter\n"
     ]
    }
   ],
   "source": [
    "a = int(input(\"Enter the amount to convert in USD: \"))\n",
    "print('select option from below')\n",
    "print (\"A: AUD to USD\")\n",
    "print (\"B: CHF to USD\")\n",
    "print (\"C: CNY to USD\")\n",
    "print (\"D: DKK to USD\")\n",
    "print (\"E: EUR to USD\")\n",
    "print (\"F: GBP to USD\")\n",
    "print (\"G: HKD to USD\")\n",
    "print (\"H: INR to USD\")\n",
    "print (\"I: JPY to USD\")\n",
    "print (\"J: MXN to USD\")\n",
    "print (\"K: MYR to USD\")\n",
    "print (\"L: NOK to USD\")\n",
    "print (\"M: NZD to USD\")\n",
    "print (\"N: PHP to USD\")\n",
    "print (\"O: SEK to USD\")\n",
    "print (\"P: SGD to USD\")\n",
    "print (\"Q: THB to USD\")\n",
    "\n",
    "con = input(\"Select the type of converstion: \")\n",
    "if con == 'A':\n",
    "    print ('The USD Rate is',a*0.72)\n",
    "if con == 'B':\n",
    "    print ('The USD Rate is',a*1.04)\n",
    "if con == 'C':\n",
    "    print ('The USD Rate is',a*0.15)\n",
    "if con == 'D':\n",
    "    print ('The USD Rate is',a*0.14)\n",
    "if con == 'E':\n",
    "    print ('The USD Rate is',a*1.07)\n",
    "if con == 'F':\n",
    "    print ('The USD Rate is',a*1.26)\n",
    "if con == 'G':\n",
    "    print ('The USD Rate is',a*0.13)\n",
    "if con == 'H':\n",
    "    print ('The USD Rate is',a*0.013)\n",
    "if con == 'I':\n",
    "    print ('The USD Rate is',a*0.0079)\n",
    "if con == 'J':\n",
    "    print ('The USD Rate is',a*0.015)\n",
    "if con == 'K':\n",
    "    print ('The USD Rate is',a*0.23)\n",
    "if con == 'L':\n",
    "    print ('The USD Rate is',a*0.11)\n",
    "if con == 'M':\n",
    "    print ('The USD Rate is',a*0.65)\n",
    "if con == 'N':\n",
    "    print ('The USD Rate is',a*0.019)\n",
    "if con == 'O':\n",
    "    print ('The USD Rate is',a*0.10)\n",
    "if con == 'P':\n",
    "    print ('The USD Rate is',a*0.73)\n",
    "if con == 'Q':\n",
    "    print ('The USD Rate is',a*0.029)\n",
    "\n",
    "print(\"Thank you for using converter\")"
   ]
  },
  {
   "cell_type": "markdown",
   "id": "ea24d8aa",
   "metadata": {},
   "source": [
    "# Q9) Identifying the Exception"
   ]
  },
  {
   "cell_type": "code",
   "execution_count": 70,
   "id": "b5fba4b0",
   "metadata": {},
   "outputs": [
    {
     "ename": "TypeError",
     "evalue": "unsupported operand type(s) for +: 'int' and 'str'",
     "output_type": "error",
     "traceback": [
      "\u001b[1;31m---------------------------------------------------------------------------\u001b[0m",
      "\u001b[1;31mTypeError\u001b[0m                                 Traceback (most recent call last)",
      "Input \u001b[1;32mIn [70]\u001b[0m, in \u001b[0;36m<cell line: 3>\u001b[1;34m()\u001b[0m\n\u001b[0;32m      1\u001b[0m \u001b[38;5;66;03m#A) Adding 6 + 'a'\u001b[39;00m\n\u001b[1;32m----> 3\u001b[0m test \u001b[38;5;241m=\u001b[39m \u001b[38;5;241;43m6\u001b[39;49m\u001b[43m \u001b[49m\u001b[38;5;241;43m+\u001b[39;49m\u001b[43m \u001b[49m\u001b[38;5;124;43m'\u001b[39;49m\u001b[38;5;124;43ma\u001b[39;49m\u001b[38;5;124;43m'\u001b[39;49m\n\u001b[0;32m      4\u001b[0m \u001b[38;5;28mprint\u001b[39m (test)\n",
      "\u001b[1;31mTypeError\u001b[0m: unsupported operand type(s) for +: 'int' and 'str'"
     ]
    }
   ],
   "source": [
    "#A) Adding 6 + 'a'\n",
    "\n",
    "test = 6 + 'a'\n",
    "print (test)"
   ]
  },
  {
   "cell_type": "markdown",
   "id": "a9f85111",
   "metadata": {},
   "source": [
    "Integer and String cannot be added"
   ]
  },
  {
   "cell_type": "code",
   "execution_count": 77,
   "id": "b18dd03f",
   "metadata": {},
   "outputs": [
    {
     "ename": "IndexError",
     "evalue": "list index out of range",
     "output_type": "error",
     "traceback": [
      "\u001b[1;31m---------------------------------------------------------------------------\u001b[0m",
      "\u001b[1;31mIndexError\u001b[0m                                Traceback (most recent call last)",
      "Input \u001b[1;32mIn [77]\u001b[0m, in \u001b[0;36m<cell line: 4>\u001b[1;34m()\u001b[0m\n\u001b[0;32m      1\u001b[0m \u001b[38;5;66;03m#B) Referring 12th item of a list having 10 items\u001b[39;00m\n\u001b[0;32m      3\u001b[0m test \u001b[38;5;241m=\u001b[39m [\u001b[38;5;124m'\u001b[39m\u001b[38;5;124mA\u001b[39m\u001b[38;5;124m'\u001b[39m,\u001b[38;5;124m'\u001b[39m\u001b[38;5;124mB\u001b[39m\u001b[38;5;124m'\u001b[39m,\u001b[38;5;124m'\u001b[39m\u001b[38;5;124mC\u001b[39m\u001b[38;5;124m'\u001b[39m,\u001b[38;5;124m'\u001b[39m\u001b[38;5;124mD\u001b[39m\u001b[38;5;124m'\u001b[39m,\u001b[38;5;124m'\u001b[39m\u001b[38;5;124mE\u001b[39m\u001b[38;5;124m'\u001b[39m,\u001b[38;5;124m'\u001b[39m\u001b[38;5;124mF\u001b[39m\u001b[38;5;124m'\u001b[39m,\u001b[38;5;124m'\u001b[39m\u001b[38;5;124mG\u001b[39m\u001b[38;5;124m'\u001b[39m,\u001b[38;5;124m'\u001b[39m\u001b[38;5;124mH\u001b[39m\u001b[38;5;124m'\u001b[39m,\u001b[38;5;124m'\u001b[39m\u001b[38;5;124mI\u001b[39m\u001b[38;5;124m'\u001b[39m,\u001b[38;5;124m'\u001b[39m\u001b[38;5;124mJ\u001b[39m\u001b[38;5;124m'\u001b[39m,\u001b[38;5;124m'\u001b[39m\u001b[38;5;124mK\u001b[39m\u001b[38;5;124m'\u001b[39m,\u001b[38;5;124m'\u001b[39m\u001b[38;5;124mL\u001b[39m\u001b[38;5;124m'\u001b[39m,\u001b[38;5;124m'\u001b[39m\u001b[38;5;124mM\u001b[39m\u001b[38;5;124m'\u001b[39m]\n\u001b[1;32m----> 4\u001b[0m \u001b[38;5;28mprint\u001b[39m (\u001b[43mtest\u001b[49m\u001b[43m[\u001b[49m\u001b[38;5;241;43m13\u001b[39;49m\u001b[43m]\u001b[49m)\n",
      "\u001b[1;31mIndexError\u001b[0m: list index out of range"
     ]
    }
   ],
   "source": [
    "#B) Referring 12th item of a list having 10 items\n",
    "\n",
    "test = ['A','B','C','D','E','F','G','H','I','J','K','L','M']\n",
    "print (test[13])"
   ]
  },
  {
   "cell_type": "markdown",
   "id": "812a7d10",
   "metadata": {},
   "source": [
    "The error is known as Index Error i.e the list index is out of range while calling 13th position variable"
   ]
  },
  {
   "cell_type": "code",
   "execution_count": 82,
   "id": "9c266cb6",
   "metadata": {},
   "outputs": [
    {
     "ename": "ValueError",
     "evalue": "math domain error",
     "output_type": "error",
     "traceback": [
      "\u001b[1;31m---------------------------------------------------------------------------\u001b[0m",
      "\u001b[1;31mValueError\u001b[0m                                Traceback (most recent call last)",
      "Input \u001b[1;32mIn [82]\u001b[0m, in \u001b[0;36m<cell line: 3>\u001b[1;34m()\u001b[0m\n\u001b[0;32m      1\u001b[0m \u001b[38;5;66;03m#C) Using a value that is out of range for a function’s input, such as calling math.sqrt(-1.0)\u001b[39;00m\n\u001b[0;32m      2\u001b[0m \u001b[38;5;28;01mimport\u001b[39;00m \u001b[38;5;21;01mmath\u001b[39;00m\n\u001b[1;32m----> 3\u001b[0m \u001b[43mmath\u001b[49m\u001b[38;5;241;43m.\u001b[39;49m\u001b[43msqrt\u001b[49m\u001b[43m(\u001b[49m\u001b[38;5;241;43m-\u001b[39;49m\u001b[38;5;241;43m1.0\u001b[39;49m\u001b[43m)\u001b[49m\n",
      "\u001b[1;31mValueError\u001b[0m: math domain error"
     ]
    }
   ],
   "source": [
    "#C) Using a value that is out of range for a function’s input, such as calling math.sqrt(-1.0)\n",
    "import math\n",
    "math.sqrt(-1.0)"
   ]
  },
  {
   "cell_type": "markdown",
   "id": "76deee91",
   "metadata": {},
   "source": [
    "The error is \"Math Domain\""
   ]
  },
  {
   "cell_type": "code",
   "execution_count": 84,
   "id": "fce84ad6",
   "metadata": {},
   "outputs": [
    {
     "ename": "NameError",
     "evalue": "name 'z' is not defined",
     "output_type": "error",
     "traceback": [
      "\u001b[1;31m---------------------------------------------------------------------------\u001b[0m",
      "\u001b[1;31mNameError\u001b[0m                                 Traceback (most recent call last)",
      "Input \u001b[1;32mIn [84]\u001b[0m, in \u001b[0;36m<cell line: 3>\u001b[1;34m()\u001b[0m\n\u001b[0;32m      1\u001b[0m \u001b[38;5;66;03m#D) Using an undeclared variable, such as print(x) when x has not been defined \u001b[39;00m\n\u001b[1;32m----> 3\u001b[0m \u001b[38;5;28mprint\u001b[39m(\u001b[43mz\u001b[49m)\n",
      "\u001b[1;31mNameError\u001b[0m: name 'z' is not defined"
     ]
    }
   ],
   "source": [
    "#D) Using an undeclared variable, such as print(x) when x has not been defined \n",
    "\n",
    "print(z)"
   ]
  },
  {
   "cell_type": "markdown",
   "id": "b317d19c",
   "metadata": {},
   "source": [
    "Error is \"Z\" not defined. Hence the variable is not defined"
   ]
  },
  {
   "cell_type": "code",
   "execution_count": 86,
   "id": "0d56753c",
   "metadata": {},
   "outputs": [
    {
     "ename": "FileNotFoundError",
     "evalue": "[Errno 2] No such file or directory: 'saipranank.txt'",
     "output_type": "error",
     "traceback": [
      "\u001b[1;31m---------------------------------------------------------------------------\u001b[0m",
      "\u001b[1;31mFileNotFoundError\u001b[0m                         Traceback (most recent call last)",
      "Input \u001b[1;32mIn [86]\u001b[0m, in \u001b[0;36m<cell line: 2>\u001b[1;34m()\u001b[0m\n\u001b[0;32m      1\u001b[0m \u001b[38;5;66;03m#E) Trying to open a file that does not exist, such as mistyping the file name or looking in the wrong directory. \u001b[39;00m\n\u001b[1;32m----> 2\u001b[0m test \u001b[38;5;241m=\u001b[39m \u001b[38;5;28;43mopen\u001b[39;49m\u001b[43m(\u001b[49m\u001b[38;5;124;43m\"\u001b[39;49m\u001b[38;5;124;43msaipranank.txt\u001b[39;49m\u001b[38;5;124;43m\"\u001b[39;49m\u001b[43m,\u001b[49m\u001b[43m \u001b[49m\u001b[38;5;124;43m\"\u001b[39;49m\u001b[38;5;124;43mr\u001b[39;49m\u001b[38;5;124;43m\"\u001b[39;49m\u001b[43m)\u001b[49m\n\u001b[0;32m      3\u001b[0m \u001b[38;5;28mprint\u001b[39m(test\u001b[38;5;241m.\u001b[39mread())\n",
      "\u001b[1;31mFileNotFoundError\u001b[0m: [Errno 2] No such file or directory: 'saipranank.txt'"
     ]
    }
   ],
   "source": [
    "#E) Trying to open a file that does not exist, such as mistyping the file name or looking in the wrong directory. \n",
    "test = open(\"saipranank.txt\", \"r\")\n",
    "print(test.read())"
   ]
  },
  {
   "cell_type": "markdown",
   "id": "dd3c9bdb",
   "metadata": {},
   "source": [
    "Error is : No suuch file or directory exisits."
   ]
  },
  {
   "cell_type": "markdown",
   "id": "24f5acd5",
   "metadata": {},
   "source": [
    "# Q10) Encryption is the process of hiding the meaning of a text by substituting letters in the message with other letters, according to some system. If the process is successful, no one but the intended recipient can understand the encrypted message. Cryptanalysis refers to attempts to undo the encryption, even if some details of the encryption are unknown (for example, if an encrypted message has been intercepted). The first step of cryptanalysis is often to build up a table of letter frequencies in the encrypted text. Assume that the string letters is already defined as 'abcdefghijklmnopqrstuvwxyz'. Write a function called frequencies() that takes a string as its only parameter, and returns a list of integers, showing the number of times each character appears in the text. Your function may ignore any characters that are not in letters. "
   ]
  },
  {
   "cell_type": "code",
   "execution_count": 14,
   "id": "aca20560",
   "metadata": {},
   "outputs": [],
   "source": [
    "import string\n",
    "z = dict.fromkeys(string.ascii_lowercase, 0)\n",
    "a = 'apple'\n",
    "for x in a:\n",
    "    x = a.lower()\n",
    "    if x in z:\n",
    "        z[x] += 1\n",
    "        print(list(z.values()))"
   ]
  },
  {
   "cell_type": "code",
   "execution_count": null,
   "id": "2f9e9612",
   "metadata": {},
   "outputs": [],
   "source": []
  },
  {
   "cell_type": "code",
   "execution_count": null,
   "id": "22988a66",
   "metadata": {},
   "outputs": [],
   "source": []
  }
 ],
 "metadata": {
  "kernelspec": {
   "display_name": "Python 3 (ipykernel)",
   "language": "python",
   "name": "python3"
  },
  "language_info": {
   "codemirror_mode": {
    "name": "ipython",
    "version": 3
   },
   "file_extension": ".py",
   "mimetype": "text/x-python",
   "name": "python",
   "nbconvert_exporter": "python",
   "pygments_lexer": "ipython3",
   "version": "3.9.12"
  }
 },
 "nbformat": 4,
 "nbformat_minor": 5
}
